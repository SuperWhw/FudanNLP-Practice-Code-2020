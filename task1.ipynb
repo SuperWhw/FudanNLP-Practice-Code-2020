{
 "cells": [
  {
   "cell_type": "markdown",
   "metadata": {},
   "source": [
    "# task 1"
   ]
  },
  {
   "cell_type": "code",
   "execution_count": 1,
   "metadata": {},
   "outputs": [],
   "source": [
    "import pandas as pd\n",
    "import numpy as np\n",
    "from matplotlib import pyplot as plt\n",
    "\n",
    "import re\n",
    "import os\n",
    "import random\n",
    "import sklearn.preprocessing\n",
    "from sklearn.model_selection import train_test_split\n",
    "from sklearn.linear_model import LogisticRegression\n",
    "from sklearn.feature_extraction.text import CountVectorizer,TfidfVectorizer\n",
    "\n",
    "import nltk\n",
    "from nltk.tokenize import word_tokenize\n",
    "from nltk.corpus import stopwords\n",
    "from nltk.stem import WordNetLemmatizer\n",
    "from bs4 import BeautifulSoup\n",
    "\n",
    "from collections import Counter\n",
    "from tqdm import notebook"
   ]
  },
  {
   "cell_type": "code",
   "execution_count": null,
   "metadata": {},
   "outputs": [],
   "source": []
  },
  {
   "cell_type": "markdown",
   "metadata": {},
   "source": [
    "## Load data"
   ]
  },
  {
   "cell_type": "code",
   "execution_count": 2,
   "metadata": {},
   "outputs": [],
   "source": [
    "# Load data\n",
    "df_train = pd.read_csv('data/train.tsv',sep='\\t')\n",
    "df_test = pd.read_csv('data/test.tsv',sep='\\t')"
   ]
  },
  {
   "cell_type": "code",
   "execution_count": 3,
   "metadata": {},
   "outputs": [
    {
     "data": {
      "text/plain": [
       "(array([7.0190e+03, 2.5369e+04, 1.9964e+04, 1.9433e+04, 1.3975e+04,\n",
       "        9.0640e+03, 8.8090e+03, 7.0600e+03, 5.0760e+03, 5.1660e+03,\n",
       "        4.3860e+03, 3.1600e+03, 3.3890e+03, 2.5790e+03, 2.7610e+03,\n",
       "        2.3750e+03, 1.8030e+03, 1.8970e+03, 1.7140e+03, 1.2930e+03,\n",
       "        1.3470e+03, 1.2290e+03, 9.3700e+02, 8.9000e+02, 6.7200e+02,\n",
       "        7.3200e+02, 6.2000e+02, 4.5600e+02, 5.0800e+02, 4.2400e+02,\n",
       "        3.1400e+02, 3.1600e+02, 2.4600e+02, 1.8100e+02, 1.5600e+02,\n",
       "        1.4100e+02, 1.0800e+02, 1.2100e+02, 7.2000e+01, 6.3000e+01,\n",
       "        7.2000e+01, 3.6000e+01, 3.6000e+01, 3.4000e+01, 2.4000e+01,\n",
       "        2.5000e+01, 5.0000e+00, 1.0000e+00, 0.0000e+00, 2.0000e+00]),\n",
       " array([  1.  ,   6.64,  12.28,  17.92,  23.56,  29.2 ,  34.84,  40.48,\n",
       "         46.12,  51.76,  57.4 ,  63.04,  68.68,  74.32,  79.96,  85.6 ,\n",
       "         91.24,  96.88, 102.52, 108.16, 113.8 , 119.44, 125.08, 130.72,\n",
       "        136.36, 142.  , 147.64, 153.28, 158.92, 164.56, 170.2 , 175.84,\n",
       "        181.48, 187.12, 192.76, 198.4 , 204.04, 209.68, 215.32, 220.96,\n",
       "        226.6 , 232.24, 237.88, 243.52, 249.16, 254.8 , 260.44, 266.08,\n",
       "        271.72, 277.36, 283.  ]),\n",
       " <a list of 50 Patch objects>)"
      ]
     },
     "execution_count": 3,
     "metadata": {},
     "output_type": "execute_result"
    },
    {
     "data": {
      "image/png": "[encoded data removed]",
      "text/plain": [
       "<Figure size 432x288 with 1 Axes>"
      ]
     },
     "metadata": {
      "needs_background": "light"
     },
     "output_type": "display_data"
    }
   ],
   "source": [
    "# Length of each sentences\n",
    "plt.hist([len(p) for p in df_train['Phrase']],bins=50)"
   ]
  },
  {
   "cell_type": "markdown",
   "metadata": {},
   "source": [
    "## Clean sentences"
   ]
  },
  {
   "cell_type": "code",
   "execution_count": 4,
   "metadata": {},
   "outputs": [],
   "source": [
    "def clean_sentences(df):\n",
    "    lemmatizer = WordNetLemmatizer()\n",
    "    eng_stopwords=stopwords.words(\"english\")\n",
    "    reviews = []\n",
    "\n",
    "    for sent in notebook.tqdm(df['Phrase']):\n",
    "        \n",
    "        #remove html content\n",
    "        review_text = BeautifulSoup(sent,'html.parser').get_text()\n",
    "        \n",
    "        #remove non-alphabetic characters\n",
    "        review_text = re.sub(\"[^a-zA-Z]\",\" \", review_text)\n",
    "    \n",
    "        #tokenize the sentences\n",
    "        words = word_tokenize(review_text.lower())\n",
    "        \n",
    "        #drop out stopwords\n",
    "        words = [w for w in words if w not in eng_stopwords]\n",
    "    \n",
    "        #lemmatize each word to its lemma\n",
    "        lemma_words = [lemmatizer.lemmatize(i) for i in words]\n",
    "    \n",
    "        reviews.append(' '.join(lemma_words))\n",
    "\n",
    "    return reviews"
   ]
  },
  {
   "cell_type": "code",
   "execution_count": 5,
   "metadata": {},
   "outputs": [
    {
     "data": {
      "application/vnd.jupyter.widget-view+json": {
       "model_id": "a7cf38cb5747461eaa6ceec3386a793e",
       "version_major": 2,
       "version_minor": 0
      },
      "text/plain": [
       "HBox(children=(FloatProgress(value=0.0, max=156060.0), HTML(value='')))"
      ]
     },
     "metadata": {},
     "output_type": "display_data"
    },
    {
     "name": "stderr",
     "output_type": "stream",
     "text": [
      "D:\\Software\\Anaconda\\lib\\site-packages\\bs4\\__init__.py:314: UserWarning: \"b'.'\" looks like a filename, not markup. You should probably open this file and pass the filehandle into Beautiful Soup.\n",
      "  ' Beautiful Soup.' % markup)\n",
      "D:\\Software\\Anaconda\\lib\\site-packages\\bs4\\__init__.py:314: UserWarning: \"b'...'\" looks like a filename, not markup. You should probably open this file and pass the filehandle into Beautiful Soup.\n",
      "  ' Beautiful Soup.' % markup)\n"
     ]
    },
    {
     "name": "stdout",
     "output_type": "stream",
     "text": [
      "\n"
     ]
    },
    {
     "data": {
      "application/vnd.jupyter.widget-view+json": {
       "model_id": "539c0422e7e54b2fa4727191fa464011",
       "version_major": 2,
       "version_minor": 0
      },
      "text/plain": [
       "HBox(children=(FloatProgress(value=0.0, max=66292.0), HTML(value='')))"
      ]
     },
     "metadata": {},
     "output_type": "display_data"
    },
    {
     "name": "stdout",
     "output_type": "stream",
     "text": [
      "\n"
     ]
    }
   ],
   "source": [
    "#cleaned reviews for both train and test set retrieved\n",
    "train_sentences = clean_sentences(df_train)\n",
    "test_sentences = clean_sentences(df_test)"
   ]
  },
  {
   "cell_type": "markdown",
   "metadata": {},
   "source": [
    "## BoW and TF-IDF with LR"
   ]
  },
  {
   "cell_type": "code",
   "execution_count": 15,
   "metadata": {},
   "outputs": [],
   "source": [
    "def fit_transform(X, method, max_f, ngram_range=(1,1)):\n",
    "    if method == 'BoW':\n",
    "        # Bag of Words\n",
    "        mol = CountVectorizer(max_features = max_f,ngram_range=ngram_range)\n",
    "        X_t = mol.fit_transform(X).toarray()\n",
    "        print(\"\\nX_BoW.shape：\",X_t.shape)\n",
    "        # print(CV.get_feature_names())\n",
    "        # len(CV.get_feature_names())\n",
    "    \n",
    "    if method == 'TF-IDF':\n",
    "        # TF-IDF\n",
    "        mol = TfidfVectorizer(max_features = max_f)\n",
    "        X_t = mol.fit_transform(X).toarray()\n",
    "        print(\"\\nX_tfidf.shape：\",X_t.shape)\n",
    "        \n",
    "    return mol,X_t"
   ]
  },
  {
   "cell_type": "code",
   "execution_count": 16,
   "metadata": {},
   "outputs": [],
   "source": [
    "def train_and_test(X_t,target,test_size,max_iter):\n",
    "    # split into train and validation sets (shuffled)\n",
    "    X_train,X_val,y_train,y_val=train_test_split(X_t,target,test_size=test_size,stratify=target)\n",
    "    \n",
    "    clf = LogisticRegression(max_iter=max_iter,random_state=0).fit(X_train, y_train)\n",
    "    clf.predict(X_val)\n",
    "    return clf,clf.score(X_val,y_val)"
   ]
  },
  {
   "cell_type": "code",
   "execution_count": 17,
   "metadata": {},
   "outputs": [
    {
     "name": "stdout",
     "output_type": "stream",
     "text": [
      "\n",
      "X_BoW.shape： (156060, 1000)\n",
      "\n",
      "Accuracy for Bag of Words:  0.5842945021145713\n",
      "\n",
      "X_tfidf.shape： (156060, 1000)\n",
      "\n",
      "Accuracy for TF-IDF:  0.5822119697552224\n"
     ]
    }
   ],
   "source": [
    "max_feature = 1000\n",
    "test_size = 0.2\n",
    "max_iter = 10000\n",
    "target=df_train.Sentiment.values\n",
    "\n",
    "mol_fit1,X_fit = fit_transform(train_sentences,'BoW',max_feature)\n",
    "model1,acc = train_and_test(X_fit,target,test_size,max_iter)\n",
    "print('\\nAccuracy for Bag of Words: ',acc)\n",
    "\n",
    "mol_fit2,X_fit = fit_transform(train_sentences,'TF-IDF',max_feature)\n",
    "model2,acc = train_and_test(X_fit,target,test_size,max_iter)\n",
    "print('\\nAccuracy for TF-IDF: ',acc)"
   ]
  },
  {
   "cell_type": "markdown",
   "metadata": {},
   "source": [
    "## N-gram with LR"
   ]
  },
  {
   "cell_type": "code",
   "execution_count": 18,
   "metadata": {},
   "outputs": [
    {
     "name": "stdout",
     "output_type": "stream",
     "text": [
      "\n",
      "X_BoW.shape： (156060, 1000)\n",
      "\n",
      "Accuracy for 2-gram:  0.5857362552864283\n"
     ]
    }
   ],
   "source": [
    "max_feature = 1000\n",
    "test_size = 0.2\n",
    "max_iter = 10000\n",
    "target=df_train.Sentiment.values\n",
    "\n",
    "mol_fit3,X_fit = fit_transform(train_sentences,'BoW',max_feature,(1,2))\n",
    "model3,acc = train_and_test(X_fit,target,test_size,max_iter)\n",
    "print('\\nAccuracy for 2-gram: ',acc)"
   ]
  },
  {
   "cell_type": "code",
   "execution_count": 19,
   "metadata": {},
   "outputs": [
    {
     "name": "stdout",
     "output_type": "stream",
     "text": [
      "\n",
      "X_BoW.shape： (156060, 1000)\n",
      "\n",
      "Accuracy for 3-gram:  0.5817954632833525\n"
     ]
    }
   ],
   "source": [
    "mol_fit4,X_fit = fit_transform(train_sentences,'BoW',max_feature,(1,3))\n",
    "model4,acc = train_and_test(X_fit,target,test_size,max_iter)\n",
    "print('\\nAccuracy for 3-gram: ',acc)"
   ]
  },
  {
   "cell_type": "markdown",
   "metadata": {},
   "source": [
    "## Test submission"
   ]
  },
  {
   "cell_type": "code",
   "execution_count": 21,
   "metadata": {},
   "outputs": [],
   "source": [
    "X_fit = mol_fit3.fit_transform(test_sentences).toarray()\n",
    "y_pred = model3.predict(X_fit)\n",
    "\n",
    "sub_file = pd.read_csv('sampleSubmission.csv',sep=',')\n",
    "sub_file.Sentiment = y_pred\n",
    "sub_file.to_csv('Submission3.csv',index=False)"
   ]
  },
  {
   "cell_type": "code",
   "execution_count": null,
   "metadata": {},
   "outputs": [],
   "source": []
  }
 ],
 "metadata": {
  "kernelspec": {
   "display_name": "Python 3",
   "language": "python",
   "name": "python3"
  },
  "language_info": {
   "codemirror_mode": {
    "name": "ipython",
    "version": 3
   },
   "file_extension": ".py",
   "mimetype": "text/x-python",
   "name": "python",
   "nbconvert_exporter": "python",
   "pygments_lexer": "ipython3",
   "version": "3.7.6"
  }
 },
 "nbformat": 4,
 "nbformat_minor": 2
}
